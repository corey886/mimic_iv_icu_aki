{
 "cells": [
  {
   "cell_type": "code",
   "execution_count": 1,
   "id": "fa91ae44-35e7-4303-be99-0aec924b6763",
   "metadata": {
    "tags": []
   },
   "outputs": [],
   "source": [
    "import time\n",
    "import dask.dataframe as dd\n",
    "import numpy as np\n",
    "import pandas as pd\n",
    "from tqdm import tqdm"
   ]
  },
  {
   "cell_type": "code",
   "execution_count": 2,
   "id": "0daa7ee8",
   "metadata": {},
   "outputs": [],
   "source": [
    "icuCharDD = dd.read_csv(\n",
    "    \"chartevents.csv\",\n",
    "    dtype={\n",
    "        \"caregiver_id\": \"float64\",\n",
    "        \"value\": \"object\",\n",
    "        \"valuenum\": \"float64\",\n",
    "        \"warning\": \"float64\",\n",
    "    },\n",
    ")\n",
    "\n",
    "icuCharDD_sCr = icuCharDD[icuCharDD[\"itemid\"] == 220615]\n",
    "icuCharDD_sCr=icuCharDD_sCr.dropna(subset=['valuenum'])\n"
   ]
  },
  {
   "cell_type": "code",
   "execution_count": 3,
   "id": "fe9cab2e",
   "metadata": {},
   "outputs": [
    {
     "name": "stdout",
     "output_type": "stream",
     "text": [
      "compute\n",
      "20230601_080749\n",
      "end compute\n",
      "20230601_081054\n"
     ]
    }
   ],
   "source": [
    "print(\"compute\")\n",
    "print(time.strftime(\"%Y%m%d_%H%M%S\", time.localtime()))\n",
    "\n",
    "icuChar_sCr = icuCharDD_sCr.compute()\n",
    "icuChar_sCr=icuChar_sCr.reset_index(drop=True)\n",
    "\n",
    "print(\"end compute\")\n",
    "print(time.strftime(\"%Y%m%d_%H%M%S\", time.localtime()))\n",
    "#4min"
   ]
  },
  {
   "cell_type": "code",
   "execution_count": 4,
   "id": "bd123f0a",
   "metadata": {},
   "outputs": [],
   "source": [
    "staticsCr=pd.DataFrame()\n",
    "staticsCr.loc[0,'item']=220615\n",
    "staticsCr.loc[0,'max']=np.max(icuChar_sCr['valuenum'])\n",
    "staticsCr.loc[0,'min']=np.min(icuChar_sCr['valuenum'])\n",
    "staticsCr.loc[0,'std']=np.std(icuChar_sCr['valuenum'])\n",
    "staticsCr.loc[0,'average']=np.average(icuChar_sCr['valuenum'])\n",
    "staticsCr.loc[0,'mean']=np.mean(icuChar_sCr['valuenum'])\n",
    "staticsCr.loc[0,'median']=np.median(icuChar_sCr['valuenum'])\n",
    "lowCut=np.percentile(icuChar_sCr['valuenum'],0.1)\n",
    "staticsCr.loc[0,'p0.1']=lowCut\n",
    "staticsCr.loc[0,'p10']=np.percentile(icuChar_sCr['valuenum'],10)\n",
    "staticsCr.loc[0,'p20']=np.percentile(icuChar_sCr['valuenum'],20)\n",
    "staticsCr.loc[0,'p25']=np.percentile(icuChar_sCr['valuenum'],25)\n",
    "staticsCr.loc[0,'p75']=np.percentile(icuChar_sCr['valuenum'],75)\n",
    "staticsCr.loc[0,'p80']=np.percentile(icuChar_sCr['valuenum'],80)\n",
    "staticsCr.loc[0,'p90']=np.percentile(icuChar_sCr['valuenum'],90)\n",
    "highCut=np.percentile(icuChar_sCr['valuenum'],99.9)\n",
    "staticsCr.loc[0,'p99.9']=highCut\n",
    "\n",
    "icuChar_sCr_clean=icuChar_sCr[(lowCut<=icuChar_sCr['valuenum'])&(icuChar_sCr['valuenum']<=highCut)]\n",
    "\n",
    "staticsCr.loc[0,'max_clean']=np.max(icuChar_sCr_clean['valuenum'])\n",
    "staticsCr.loc[0,'min_clean']=np.min(icuChar_sCr_clean['valuenum'])\n",
    "staticsCr.loc[0,'std_clean']=np.std(icuChar_sCr_clean['valuenum'])\n",
    "staticsCr.loc[0,'average_clean']=np.average(icuChar_sCr_clean['valuenum'])\n",
    "staticsCr.loc[0,'mean_clean']=np.mean(icuChar_sCr_clean['valuenum'])\n",
    "staticsCr.loc[0,'median_clean']=np.median(icuChar_sCr_clean['valuenum'])\n",
    "staticsCr.loc[0,'p0.1_clean']=np.percentile(icuChar_sCr_clean['valuenum'],0.1)\n",
    "staticsCr.loc[0,'p10_clean']=np.percentile(icuChar_sCr_clean['valuenum'],10)\n",
    "staticsCr.loc[0,'p20_clean']=np.percentile(icuChar_sCr_clean['valuenum'],20)\n",
    "staticsCr.loc[0,'p25_clean']=np.percentile(icuChar_sCr_clean['valuenum'],25)\n",
    "staticsCr.loc[0,'p75_clean']=np.percentile(icuChar_sCr_clean['valuenum'],75)\n",
    "staticsCr.loc[0,'p80_clean']=np.percentile(icuChar_sCr_clean['valuenum'],80)\n",
    "staticsCr.loc[0,'p90_clean']=np.percentile(icuChar_sCr_clean['valuenum'],90)\n",
    "staticsCr.loc[0,'p99.9_clean']=np.percentile(icuChar_sCr_clean['valuenum'],99.9)\n"
   ]
  },
  {
   "cell_type": "code",
   "execution_count": 5,
   "id": "a5bbfb1c",
   "metadata": {},
   "outputs": [],
   "source": [
    "saveTimeStr = time.strftime(\"%Y%m%d_%H%M%S\", time.localtime())\n",
    "staticsCr.to_excel(saveTimeStr+'_mimiciv_icuChar_sCr_statistical.xlsx',index=False)"
   ]
  },
  {
   "cell_type": "code",
   "execution_count": 6,
   "id": "fcf8488b",
   "metadata": {},
   "outputs": [],
   "source": [
    "saveTimeStr = time.strftime(\"%Y%m%d_%H%M%S\", time.localtime())\n",
    "icuChar_sCr_clean.to_csv(saveTimeStr+'_mimiciv_icuChar_sCr_clean.csv',index=False)\n",
    "#2s"
   ]
  },
  {
   "cell_type": "code",
   "execution_count": null,
   "id": "7a376dbb",
   "metadata": {},
   "outputs": [],
   "source": [
    "#quick save point\n",
    "icuChar_sCr_clean=pd.read_csv('???_mimiciv_icuChar_sCr_clean.csv')"
   ]
  },
  {
   "cell_type": "code",
   "execution_count": 7,
   "id": "241a081d",
   "metadata": {},
   "outputs": [],
   "source": [
    "admi=pd.read_csv(\"20230525_160146mimiciv_hosp_admi.csv\")"
   ]
  },
  {
   "cell_type": "code",
   "execution_count": 8,
   "id": "64acc56c",
   "metadata": {},
   "outputs": [],
   "source": [
    "icuChar_sCr_clean_admi = icuChar_sCr_clean.merge(admi, how=\"left\", on=[\"subject_id\",\"hadm_id\"])\n",
    "#"
   ]
  },
  {
   "cell_type": "code",
   "execution_count": 9,
   "id": "11529c64",
   "metadata": {},
   "outputs": [
    {
     "name": "stdout",
     "output_type": "stream",
     "text": [
      "to_datetime\n",
      "20230601_081058\n",
      "end to_datetime\n",
      "20230601_081058\n"
     ]
    }
   ],
   "source": [
    "print(\"to_datetime\")\n",
    "print(time.strftime(\"%Y%m%d_%H%M%S\", time.localtime()))\n",
    "\n",
    "icuChar_sCr_clean_admi[\"charttime\"] = pd.to_datetime(icuChar_sCr_clean_admi[\"charttime\"], format=\"%Y-%m-%d %H:%M:%S\")\n",
    "icuChar_sCr_clean_admi[\"admittime\"] = pd.to_datetime(icuChar_sCr_clean_admi[\"admittime\"], format=\"%Y-%m-%d %H:%M:%S\")\n",
    "icuChar_sCr_clean_admi[\"dischtime\"] = pd.to_datetime(icuChar_sCr_clean_admi[\"dischtime\"], format=\"%Y-%m-%d %H:%M:%S\")\n",
    "icuChar_sCr_clean_admi[\"deathtime\"] = pd.to_datetime(icuChar_sCr_clean_admi[\"deathtime\"], format=\"%Y-%m-%d %H:%M:%S\")\n",
    "\n",
    "print(\"end to_datetime\")\n",
    "print(time.strftime(\"%Y%m%d_%H%M%S\", time.localtime()))"
   ]
  },
  {
   "cell_type": "code",
   "execution_count": 10,
   "id": "29f97881",
   "metadata": {},
   "outputs": [],
   "source": [
    "icuChar_sCr_clean_admi=icuChar_sCr_clean_admi.sort_values(by=['subject_id', 'hadm_id','charttime'])\n",
    "icuChar_sCr_clean_admi=icuChar_sCr_clean_admi.reset_index(drop=True)"
   ]
  },
  {
   "cell_type": "code",
   "execution_count": 11,
   "id": "2f10b45f",
   "metadata": {},
   "outputs": [],
   "source": [
    "icuChar_sCr_clean_admi[\"delta_in_char_time(hours)\"] = (icuChar_sCr_clean_admi[\"charttime\"] - icuChar_sCr_clean_admi[\"admittime\"]) / np.timedelta64(1, \"h\")\n",
    "\n",
    "icuChar_sCr_clean_admi[\"delta_char_disc_time(hours)\"] = (icuChar_sCr_clean_admi[\"charttime\"] - icuChar_sCr_clean_admi[\"dischtime\"]) / np.timedelta64(1, \"h\")\n",
    "\n",
    "icuChar_sCr_clean_admi[\"delta_char_death_time(hours)\"] = (icuChar_sCr_clean_admi[\"charttime\"] - icuChar_sCr_clean_admi[\"deathtime\"]) / np.timedelta64(1, \"h\")\n",
    "\n",
    "icuChar_sCr_clean_admi['delta_time(hours)']=icuChar_sCr_clean_admi[\"delta_in_char_time(hours)\"]"
   ]
  },
  {
   "cell_type": "code",
   "execution_count": 12,
   "id": "c4fcc4ef",
   "metadata": {},
   "outputs": [
    {
     "data": {
      "text/html": [
       "<div>\n",
       "<style scoped>\n",
       "    .dataframe tbody tr th:only-of-type {\n",
       "        vertical-align: middle;\n",
       "    }\n",
       "\n",
       "    .dataframe tbody tr th {\n",
       "        vertical-align: top;\n",
       "    }\n",
       "\n",
       "    .dataframe thead th {\n",
       "        text-align: right;\n",
       "    }\n",
       "</style>\n",
       "<table border=\"1\" class=\"dataframe\">\n",
       "  <thead>\n",
       "    <tr style=\"text-align: right;\">\n",
       "      <th></th>\n",
       "      <th>subject_id</th>\n",
       "      <th>hadm_id</th>\n",
       "      <th>stay_id</th>\n",
       "      <th>caregiver_id</th>\n",
       "      <th>charttime</th>\n",
       "      <th>storetime</th>\n",
       "      <th>itemid</th>\n",
       "      <th>value</th>\n",
       "      <th>valuenum</th>\n",
       "      <th>valueuom</th>\n",
       "      <th>warning</th>\n",
       "      <th>admittime</th>\n",
       "      <th>dischtime</th>\n",
       "      <th>deathtime</th>\n",
       "      <th>race</th>\n",
       "      <th>hospital_expire_flag</th>\n",
       "      <th>delta_in_char_time(hours)</th>\n",
       "      <th>delta_char_disc_time(hours)</th>\n",
       "      <th>delta_char_death_time(hours)</th>\n",
       "      <th>delta_time(hours)</th>\n",
       "    </tr>\n",
       "  </thead>\n",
       "  <tbody>\n",
       "    <tr>\n",
       "      <th>0</th>\n",
       "      <td>10000032</td>\n",
       "      <td>29079034</td>\n",
       "      <td>39553978</td>\n",
       "      <td>NaN</td>\n",
       "      <td>2180-07-23 21:45:00</td>\n",
       "      <td>2180-07-23 22:30:00</td>\n",
       "      <td>220615</td>\n",
       "      <td>0.5</td>\n",
       "      <td>0.5</td>\n",
       "      <td>mg/dL</td>\n",
       "      <td>0.0</td>\n",
       "      <td>2180-07-23 12:35:00</td>\n",
       "      <td>2180-07-25 17:55:00</td>\n",
       "      <td>NaT</td>\n",
       "      <td>WHITE</td>\n",
       "      <td>0</td>\n",
       "      <td>9.166667</td>\n",
       "      <td>-44.166667</td>\n",
       "      <td>NaN</td>\n",
       "      <td>9.166667</td>\n",
       "    </tr>\n",
       "    <tr>\n",
       "      <th>1</th>\n",
       "      <td>10001217</td>\n",
       "      <td>24597018</td>\n",
       "      <td>37067082</td>\n",
       "      <td>NaN</td>\n",
       "      <td>2157-11-21 03:16:00</td>\n",
       "      <td>2157-11-21 04:53:00</td>\n",
       "      <td>220615</td>\n",
       "      <td>0.4</td>\n",
       "      <td>0.4</td>\n",
       "      <td>mg/dL</td>\n",
       "      <td>0.0</td>\n",
       "      <td>2157-11-18 22:56:00</td>\n",
       "      <td>2157-11-25 18:00:00</td>\n",
       "      <td>NaT</td>\n",
       "      <td>WHITE</td>\n",
       "      <td>0</td>\n",
       "      <td>52.333333</td>\n",
       "      <td>-110.733333</td>\n",
       "      <td>NaN</td>\n",
       "      <td>52.333333</td>\n",
       "    </tr>\n",
       "    <tr>\n",
       "      <th>2</th>\n",
       "      <td>10001217</td>\n",
       "      <td>27703517</td>\n",
       "      <td>34592300</td>\n",
       "      <td>NaN</td>\n",
       "      <td>2157-12-20 01:45:00</td>\n",
       "      <td>2157-12-20 02:41:00</td>\n",
       "      <td>220615</td>\n",
       "      <td>0.5</td>\n",
       "      <td>0.5</td>\n",
       "      <td>mg/dL</td>\n",
       "      <td>0.0</td>\n",
       "      <td>2157-12-18 16:58:00</td>\n",
       "      <td>2157-12-24 14:55:00</td>\n",
       "      <td>NaT</td>\n",
       "      <td>WHITE</td>\n",
       "      <td>0</td>\n",
       "      <td>32.783333</td>\n",
       "      <td>-109.166667</td>\n",
       "      <td>NaN</td>\n",
       "      <td>32.783333</td>\n",
       "    </tr>\n",
       "    <tr>\n",
       "      <th>3</th>\n",
       "      <td>10001725</td>\n",
       "      <td>25563031</td>\n",
       "      <td>31205490</td>\n",
       "      <td>NaN</td>\n",
       "      <td>2110-04-11 18:02:00</td>\n",
       "      <td>2110-04-11 18:53:00</td>\n",
       "      <td>220615</td>\n",
       "      <td>0.8</td>\n",
       "      <td>0.8</td>\n",
       "      <td>mg/dL</td>\n",
       "      <td>0.0</td>\n",
       "      <td>2110-04-11 15:08:00</td>\n",
       "      <td>2110-04-14 15:00:00</td>\n",
       "      <td>NaT</td>\n",
       "      <td>WHITE</td>\n",
       "      <td>0</td>\n",
       "      <td>2.900000</td>\n",
       "      <td>-68.966667</td>\n",
       "      <td>NaN</td>\n",
       "      <td>2.900000</td>\n",
       "    </tr>\n",
       "    <tr>\n",
       "      <th>4</th>\n",
       "      <td>10001725</td>\n",
       "      <td>25563031</td>\n",
       "      <td>31205490</td>\n",
       "      <td>NaN</td>\n",
       "      <td>2110-04-12 02:59:00</td>\n",
       "      <td>2110-04-12 03:47:00</td>\n",
       "      <td>220615</td>\n",
       "      <td>0.8</td>\n",
       "      <td>0.8</td>\n",
       "      <td>mg/dL</td>\n",
       "      <td>0.0</td>\n",
       "      <td>2110-04-11 15:08:00</td>\n",
       "      <td>2110-04-14 15:00:00</td>\n",
       "      <td>NaT</td>\n",
       "      <td>WHITE</td>\n",
       "      <td>0</td>\n",
       "      <td>11.850000</td>\n",
       "      <td>-60.016667</td>\n",
       "      <td>NaN</td>\n",
       "      <td>11.850000</td>\n",
       "    </tr>\n",
       "  </tbody>\n",
       "</table>\n",
       "</div>"
      ],
      "text/plain": [
       "   subject_id   hadm_id   stay_id  caregiver_id           charttime  \\\n",
       "0    10000032  29079034  39553978           NaN 2180-07-23 21:45:00   \n",
       "1    10001217  24597018  37067082           NaN 2157-11-21 03:16:00   \n",
       "2    10001217  27703517  34592300           NaN 2157-12-20 01:45:00   \n",
       "3    10001725  25563031  31205490           NaN 2110-04-11 18:02:00   \n",
       "4    10001725  25563031  31205490           NaN 2110-04-12 02:59:00   \n",
       "\n",
       "             storetime  itemid value  valuenum valueuom  warning  \\\n",
       "0  2180-07-23 22:30:00  220615   0.5       0.5    mg/dL      0.0   \n",
       "1  2157-11-21 04:53:00  220615   0.4       0.4    mg/dL      0.0   \n",
       "2  2157-12-20 02:41:00  220615   0.5       0.5    mg/dL      0.0   \n",
       "3  2110-04-11 18:53:00  220615   0.8       0.8    mg/dL      0.0   \n",
       "4  2110-04-12 03:47:00  220615   0.8       0.8    mg/dL      0.0   \n",
       "\n",
       "            admittime           dischtime deathtime   race  \\\n",
       "0 2180-07-23 12:35:00 2180-07-25 17:55:00       NaT  WHITE   \n",
       "1 2157-11-18 22:56:00 2157-11-25 18:00:00       NaT  WHITE   \n",
       "2 2157-12-18 16:58:00 2157-12-24 14:55:00       NaT  WHITE   \n",
       "3 2110-04-11 15:08:00 2110-04-14 15:00:00       NaT  WHITE   \n",
       "4 2110-04-11 15:08:00 2110-04-14 15:00:00       NaT  WHITE   \n",
       "\n",
       "   hospital_expire_flag  delta_in_char_time(hours)  \\\n",
       "0                     0                   9.166667   \n",
       "1                     0                  52.333333   \n",
       "2                     0                  32.783333   \n",
       "3                     0                   2.900000   \n",
       "4                     0                  11.850000   \n",
       "\n",
       "   delta_char_disc_time(hours)  delta_char_death_time(hours)  \\\n",
       "0                   -44.166667                           NaN   \n",
       "1                  -110.733333                           NaN   \n",
       "2                  -109.166667                           NaN   \n",
       "3                   -68.966667                           NaN   \n",
       "4                   -60.016667                           NaN   \n",
       "\n",
       "   delta_time(hours)  \n",
       "0           9.166667  \n",
       "1          52.333333  \n",
       "2          32.783333  \n",
       "3           2.900000  \n",
       "4          11.850000  "
      ]
     },
     "execution_count": 12,
     "metadata": {},
     "output_type": "execute_result"
    }
   ],
   "source": [
    "icuChar_sCr_clean_admi[:5]"
   ]
  },
  {
   "cell_type": "code",
   "execution_count": 13,
   "id": "25c9b211",
   "metadata": {},
   "outputs": [],
   "source": [
    "icuChar_sCr_clean_admi_inTime=icuChar_sCr_clean_admi[(0<icuChar_sCr_clean_admi[\"delta_in_char_time(hours)\"])\n",
    "                                            &(icuChar_sCr_clean_admi[\"delta_in_char_time(hours)\"]<=168)\n",
    "                                            &(icuChar_sCr_clean_admi[\"delta_char_disc_time(hours)\"]<=0)]"
   ]
  },
  {
   "cell_type": "code",
   "execution_count": 14,
   "id": "6f45910b",
   "metadata": {},
   "outputs": [],
   "source": [
    "icuChar_sCr_clean_admi_inTime=icuChar_sCr_clean_admi_inTime.sort_values(by=['subject_id', 'hadm_id'])\n",
    "icuChar_sCr_clean_admi_inTime=icuChar_sCr_clean_admi_inTime.reset_index(drop=True)"
   ]
  },
  {
   "cell_type": "code",
   "execution_count": 15,
   "id": "c713b8e3",
   "metadata": {},
   "outputs": [],
   "source": [
    "saveTimeStr = time.strftime(\"%Y%m%d_%H%M%S\", time.localtime())\n",
    "icuChar_sCr_clean_admi_inTime.to_csv(saveTimeStr+'mimiciv_icuChar_sCr_clean_inTime.csv',index=False)\n",
    "#4s"
   ]
  },
  {
   "cell_type": "code",
   "execution_count": null,
   "id": "31ec146b",
   "metadata": {},
   "outputs": [],
   "source": [
    "#quick save point\n",
    "\n",
    "icuChar_sCr_clean_admi_inTime=pd.read_csv('??mimiciv_icuChar_sCr_clean_inTime.csv')\n",
    "\n",
    "\n",
    "icuChar_sCr_clean_admi_inTime[\"charttime\"] = pd.to_datetime(\n",
    "    icuChar_sCr_clean_admi_inTime[\"charttime\"], format=\"%Y-%m-%d %H:%M:%S\"\n",
    ")\n",
    "\n",
    "icuChar_sCr_clean_admi_inTime[\"admittime\"] = pd.to_datetime(\n",
    "    icuChar_sCr_clean_admi_inTime[\"admittime\"], format=\"%Y-%m-%d %H:%M:%S\"\n",
    ")\n",
    "\n",
    "\n",
    "icuChar_sCr_clean_admi_inTime[\"dischtime\"] = pd.to_datetime(\n",
    "    icuChar_sCr_clean_admi_inTime[\"dischtime\"], format=\"%Y-%m-%d %H:%M:%S\"\n",
    ")\n",
    "\n",
    "icuChar_sCr_clean_admi_inTime[\"deathtime\"] = pd.to_datetime(\n",
    "    icuChar_sCr_clean_admi_inTime[\"deathtime\"], format=\"%Y-%m-%d %H:%M:%S\"\n",
    ")\n",
    "\n"
   ]
  },
  {
   "cell_type": "code",
   "execution_count": 16,
   "id": "67a31559",
   "metadata": {},
   "outputs": [],
   "source": [
    "def tKDIGO_kn(inputt):\n",
    "    inputt=inputt.sort_values(by=['charttime'])\n",
    "    out = pd.DataFrame()\n",
    "\n",
    "    out.loc[0, 'subject_id'] = inputt.iloc[0]['subject_id']\n",
    "    out.loc[0, 'hadm_id'] = inputt.iloc[0]['hadm_id']\n",
    "    out.loc[0, 'admittime'] = inputt.iloc[0]['admittime']\n",
    "\n",
    "    akiHappenAt = inputt.iloc[len(inputt)-1]['delta_time(hours)']\n",
    "\n",
    "    if len(inputt) < 2:\n",
    "        out.loc[0, 'AKI_happened'] = np.nan\n",
    "        out.loc[0, 'AKI_time'] = np.nan\n",
    "        out.loc[0, 'KDIGO_Stage'] = np.nan\n",
    "        out.loc[0, 'deltCre01'] = np.nan\n",
    "        out.loc[0, 'deltCre02'] = np.nan\n",
    "        out.loc[0, 'delta_time(hours)'] = np.nan\n",
    "        return out\n",
    "    # =================================================================================================\n",
    "    tmp = inputt[(inputt['delta_time(hours)'] <= 48)]\n",
    "    deltCre01 = 0\n",
    "    chtime01 = inputt.iloc[0]['charttime']\n",
    "    if len(tmp) > 1:\n",
    "        #deltCre01 = tmp['valuenum'].max()-tmp['valuenum'].min()\n",
    "        for ii in range(len(tmp)-1):\n",
    "            v1 = tmp.iloc[0]['valuenum']\n",
    "            v2 = tmp.iloc[ii+1]['valuenum']\n",
    "            v3 = v2-v1\n",
    "            if v3 >= 0.3:\n",
    "                ftt = tmp.iloc[ii+1]['delta_time(hours)']\n",
    "                if akiHappenAt > ftt:\n",
    "                    akiHappenAt = ftt\n",
    "            if deltCre01 < v3:\n",
    "                deltCre01 = v3\n",
    "                chtime01 = tmp.iloc[ii+1]['charttime']\n",
    "\n",
    "    # =================================================================================================\n",
    "    tmp = inputt[(inputt['delta_time(hours)'] <= 168)]\n",
    "    deltCre02 = 0\n",
    "    chtime02 = inputt.iloc[0]['charttime']\n",
    "    if len(tmp) > 1:\n",
    "        for ii in range(len(tmp)-1):\n",
    "            v1 = tmp.iloc[0]['valuenum']\n",
    "            v2 = tmp.iloc[ii+1]['valuenum']\n",
    "            v3 = (v2-v1)/v1\n",
    "            if v3 >= 1.5:\n",
    "                ftt = tmp.iloc[ii+1]['delta_time(hours)']\n",
    "                if akiHappenAt > ftt:\n",
    "                    akiHappenAt = ftt\n",
    "            if deltCre02 < v3:\n",
    "                deltCre02 = v3\n",
    "                chtime02 = tmp.iloc[ii+1]['charttime']\n",
    "\n",
    "    # =================================================================================================\n",
    "    if deltCre01 >= 0.3 or deltCre02 >= 1.5:\n",
    "        out.loc[0, 'AKI_happened'] = 1\n",
    "        hapnTime = (chtime02 - chtime01) / np.timedelta64(1, 'h')\n",
    "        if hapnTime >= 0:\n",
    "            out.loc[0, 'AKI_time'] = chtime02\n",
    "        else:\n",
    "            out.loc[0, 'AKI_time'] = chtime01\n",
    "\n",
    "        if (deltCre01 >= 4) or (3 <= deltCre02):\n",
    "            out.loc[0, 'KDIGO_Stage'] = 3\n",
    "        elif (2 <= deltCre02) and (deltCre02 < 3):\n",
    "            out.loc[0, 'KDIGO_Stage'] = 2\n",
    "        elif ((1.5 <= deltCre02) and (deltCre02 < 2)) or (0.3 <= deltCre01):\n",
    "            out.loc[0, 'KDIGO_Stage'] = 1\n",
    "        else:\n",
    "            out.loc[0, 'KDIGO_Stage'] = -100\n",
    "\n",
    "    else:\n",
    "        out.loc[0, 'AKI_happened'] = 0\n",
    "        out.loc[0, 'AKI_time'] = np.nan\n",
    "        out.loc[0, 'KDIGO_Stage'] = 0\n",
    "\n",
    "    # =================================================================================================\n",
    "    out.loc[0, 'deltCre01'] = deltCre01\n",
    "    out.loc[0, 'deltCre02'] = deltCre02\n",
    "    out.loc[0, 'delta_time(hours)'] = akiHappenAt\n",
    "\n",
    "    return out\n",
    "\n",
    "\n"
   ]
  },
  {
   "cell_type": "code",
   "execution_count": 17,
   "id": "04647514",
   "metadata": {},
   "outputs": [],
   "source": [
    "mimiciv_icu_aki=icuChar_sCr_clean_admi_inTime.groupby(['subject_id','hadm_id']).apply(tKDIGO_kn).reset_index(drop=True)\n",
    "#7min"
   ]
  },
  {
   "cell_type": "code",
   "execution_count": 18,
   "id": "4ce83184",
   "metadata": {},
   "outputs": [],
   "source": [
    "mimiciv_icu_aki=mimiciv_icu_aki.dropna(subset=['AKI_happened'])\n",
    "mimiciv_icu_aki=mimiciv_icu_aki.reset_index(drop=True)"
   ]
  },
  {
   "cell_type": "code",
   "execution_count": 19,
   "id": "617feab9",
   "metadata": {},
   "outputs": [],
   "source": [
    "saveTimeStr = time.strftime(\"%Y%m%d_%H%M%S\", time.localtime())\n",
    "mimiciv_icu_aki.to_csv(saveTimeStr+'mimiciv_icu_aki.csv',index=False)"
   ]
  },
  {
   "cell_type": "code",
   "execution_count": 20,
   "id": "13e7dd28",
   "metadata": {},
   "outputs": [],
   "source": [
    "def tSelectFrist(inDf):\n",
    "    inDf=inDf.sort_values(by=['admittime'])\n",
    "\n",
    "    fAki=inDf[inDf['AKI_happened']>0.01]\n",
    "    if len(fAki)>0:\n",
    "        return fAki.iloc[0]\n",
    "    \n",
    "    return inDf.iloc[0]"
   ]
  },
  {
   "cell_type": "code",
   "execution_count": 21,
   "id": "1907f336",
   "metadata": {},
   "outputs": [],
   "source": [
    "mimiciv_icu_aki_frist=mimiciv_icu_aki.groupby(['subject_id']).apply(tSelectFrist).reset_index(drop=True)\n",
    "mimiciv_icu_aki_frist=mimiciv_icu_aki_frist.sort_values(by=['subject_id', 'hadm_id'])\n",
    "\n",
    "mimiciv_icu_aki_frist=mimiciv_icu_aki_frist[['subject_id', 'hadm_id', 'AKI_happened', 'AKI_time','KDIGO_Stage', 'delta_time(hours)']]\n",
    "\n",
    "mimiciv_icu_aki_frist=mimiciv_icu_aki_frist.reset_index(drop=True)\n",
    "#28s"
   ]
  },
  {
   "cell_type": "code",
   "execution_count": 22,
   "id": "66eb8936",
   "metadata": {},
   "outputs": [],
   "source": [
    "saveTimeStr = time.strftime(\"%Y%m%d_%H%M%S\", time.localtime())\n",
    "mimiciv_icu_aki_frist.to_csv(saveTimeStr+'mimiciv_icu_aki_frist.csv',index=False)"
   ]
  },
  {
   "cell_type": "code",
   "execution_count": 23,
   "id": "688b6612",
   "metadata": {},
   "outputs": [
    {
     "name": "stdout",
     "output_type": "stream",
     "text": [
      "40747\n"
     ]
    }
   ],
   "source": [
    "pp=pd.unique(mimiciv_icu_aki_frist['subject_id'])\n",
    "print(len(pp))\n",
    "#40747"
   ]
  },
  {
   "cell_type": "code",
   "execution_count": 24,
   "id": "aa6d62c5",
   "metadata": {},
   "outputs": [
    {
     "name": "stdout",
     "output_type": "stream",
     "text": [
      "40747\n"
     ]
    }
   ],
   "source": [
    "pp=pd.unique(mimiciv_icu_aki_frist['hadm_id'])\n",
    "print(len(pp))\n",
    "#40747"
   ]
  },
  {
   "cell_type": "code",
   "execution_count": 25,
   "id": "e4bce851",
   "metadata": {},
   "outputs": [
    {
     "name": "stdout",
     "output_type": "stream",
     "text": [
      "5749\n"
     ]
    }
   ],
   "source": [
    "pp=mimiciv_icu_aki_frist[mimiciv_icu_aki_frist['AKI_happened']==1]\n",
    "print(len(pp))\n",
    "#5749"
   ]
  },
  {
   "cell_type": "code",
   "execution_count": null,
   "id": "2931ea04",
   "metadata": {},
   "outputs": [],
   "source": []
  }
 ],
 "metadata": {
  "kernelspec": {
   "display_name": "Python 3 (ipykernel)",
   "language": "python",
   "name": "python3"
  },
  "language_info": {
   "codemirror_mode": {
    "name": "ipython",
    "version": 3
   },
   "file_extension": ".py",
   "mimetype": "text/x-python",
   "name": "python",
   "nbconvert_exporter": "python",
   "pygments_lexer": "ipython3",
   "version": "3.10.11"
  }
 },
 "nbformat": 4,
 "nbformat_minor": 5
}
